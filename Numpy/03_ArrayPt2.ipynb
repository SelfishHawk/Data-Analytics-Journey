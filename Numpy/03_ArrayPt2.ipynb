{
 "cells": [
  {
   "cell_type": "code",
   "execution_count": 5,
   "id": "27ff996b",
   "metadata": {},
   "outputs": [
    {
     "name": "stdout",
     "output_type": "stream",
     "text": [
      "[2 3 5 6 7 8]\n",
      "[[ 5  7  8  9]\n",
      " [12 55 55 98]]\n"
     ]
    }
   ],
   "source": [
    "#Sorting\n",
    "import numpy as np\n",
    "ar=np.array([5,2,7,6,8,3])\n",
    "print(np.sort(ar))\n",
    "arr=np.array([[7,5,8,9],[12,55,98,55]])\n",
    "print(np.sort(arr))"
   ]
  },
  {
   "cell_type": "code",
   "execution_count": 10,
   "id": "3a59a81b-4b9a-4f15-8d37-b51dadd9abe3",
   "metadata": {},
   "outputs": [
    {
     "name": "stdout",
     "output_type": "stream",
     "text": [
      "(array([0, 2, 3, 4]),)\n",
      "3\n"
     ]
    }
   ],
   "source": [
    "#Searching\n",
    "ar=np.array([4,5,6,8,6,1])\n",
    "x=np.where(ar%2==0)\n",
    "print(x)\n",
    "arr=np.array([1,2,3,4,5,6])\n",
    "y=np.searchsorted(arr,4)\n",
    "print(y)"
   ]
  },
  {
   "cell_type": "code",
   "execution_count": 13,
   "id": "e6561550-b6b7-4446-8444-a9c559d3a384",
   "metadata": {},
   "outputs": [
    {
     "name": "stdout",
     "output_type": "stream",
     "text": [
      "[1 4]\n",
      "[2 4]\n"
     ]
    }
   ],
   "source": [
    "#Filtering\n",
    "ar=np.array([1,2,3,4,5])\n",
    "fa=[True,False,False,True,False]\n",
    "new=ar[fa]\n",
    "print(new)\n",
    "fa1=ar%2==0\n",
    "new1=ar[fa1]\n",
    "print(new1)"
   ]
  },
  {
   "cell_type": "code",
   "execution_count": 19,
   "id": "b1c5dca0-e42b-4a39-91a1-5bd74da70ecd",
   "metadata": {},
   "outputs": [
    {
     "name": "stdout",
     "output_type": "stream",
     "text": [
      "10\n",
      "4\n",
      "2.5\n",
      "4\n",
      "1\n",
      "[ 1  3  6 10]\n",
      "[ 1  2  6 24]\n"
     ]
    }
   ],
   "source": [
    "#Aggregating\n",
    "arr=[1,2,3,4]\n",
    "print(np.sum(arr))\n",
    "print(np.size(arr))\n",
    "print(np.mean(arr))\n",
    "print(np.max(arr))\n",
    "print(np.min(arr))\n",
    "print(np.cumsum(arr))\n",
    "print(np.cumprod(arr))"
   ]
  },
  {
   "cell_type": "code",
   "execution_count": 23,
   "id": "ee236a4f-2946-43bf-9a18-3c95bca4541a",
   "metadata": {},
   "outputs": [
    {
     "name": "stdout",
     "output_type": "stream",
     "text": [
      "Price:-  [[10 20 15 18]] \n",
      " Quantity:-  [[5 4 2 5]]\n",
      "\n",
      "[[[10 20 15 18]]\n",
      "\n",
      " [[50 80 30 90]]]\n",
      "Total :- 250\n"
     ]
    }
   ],
   "source": [
    "a=[10,20,15,18]\n",
    "b=[5,4,2,5]\n",
    "price=np.array([a])\n",
    "quantity=np.array([b])\n",
    "print(\"Price:- \",price,\"\\n\",\"Quantity:- \",quantity)\n",
    "print()\n",
    "c=np.cumprod([price,quantity],axis=0)\n",
    "print(c)\n",
    "print(\"Total :-\",c[1].sum())"
   ]
  },
  {
   "cell_type": "code",
   "execution_count": 25,
   "id": "5171db16-0eba-48d3-8ee3-cc8205d6f4d6",
   "metadata": {},
   "outputs": [
    {
     "name": "stdout",
     "output_type": "stream",
     "text": [
      "50.0\n",
      "50.0\n",
      "10\n",
      "25.81988897471611\n",
      "666.6666666666666\n"
     ]
    }
   ],
   "source": [
    "#Statisttical function\n",
    "import statistics as stats\n",
    "a=[10,20,30,40,50,60,70,80,90]\n",
    "print(np.mean(a))\n",
    "print(np.median(a))\n",
    "print(stats.mode(a))\n",
    "print(np.std(a))\n",
    "print(np.var(a))"
   ]
  },
  {
   "cell_type": "code",
   "execution_count": 31,
   "id": "442cac07-cd18-4468-bdc8-8ea9a5535545",
   "metadata": {},
   "outputs": [
    {
     "name": "stdout",
     "output_type": "stream",
     "text": [
      "[[1.         0.97952609]\n",
      " [0.97952609 1.        ]]\n"
     ]
    }
   ],
   "source": [
    "#Correlation coefficient (-1 is inverse proportion,1 is for direct proportion and 0 is for no relation )\n",
    "a=[10,20,15,18]\n",
    "b=[5,8,6,7]\n",
    "price=np.array([a])\n",
    "quantity=np.array([b])\n",
    "print(np.corrcoef(price,quantity))"
   ]
  },
  {
   "cell_type": "code",
   "execution_count": 32,
   "id": "16cb337d-afe6-4684-8093-885747aa4b35",
   "metadata": {},
   "outputs": [
    {
     "name": "stdout",
     "output_type": "stream",
     "text": [
      "[[ 1.         -0.99084787]\n",
      " [-0.99084787  1.        ]]\n"
     ]
    }
   ],
   "source": [
    "a=[10,20,15,18]\n",
    "b=[10,2,7,4]\n",
    "price=np.array([a])\n",
    "quantity=np.array([b])\n",
    "print(np.corrcoef(price,quantity))"
   ]
  }
 ],
 "metadata": {
  "kernelspec": {
   "display_name": "Python 3 (ipykernel)",
   "language": "python",
   "name": "python3"
  },
  "language_info": {
   "codemirror_mode": {
    "name": "ipython",
    "version": 3
   },
   "file_extension": ".py",
   "mimetype": "text/x-python",
   "name": "python",
   "nbconvert_exporter": "python",
   "pygments_lexer": "ipython3",
   "version": "3.12.7"
  }
 },
 "nbformat": 4,
 "nbformat_minor": 5
}

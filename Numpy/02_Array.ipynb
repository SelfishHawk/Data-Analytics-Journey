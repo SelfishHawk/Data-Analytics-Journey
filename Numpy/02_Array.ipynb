{
 "cells": [
  {
   "cell_type": "code",
   "execution_count": 1,
   "id": "bfac5593",
   "metadata": {},
   "outputs": [
    {
     "name": "stdout",
     "output_type": "stream",
     "text": [
      "[10 20 30 40]\n"
     ]
    }
   ],
   "source": [
    "import numpy as np\n",
    "a=np.array([10,20,30,40])\n",
    "print(a)"
   ]
  },
  {
   "cell_type": "code",
   "execution_count": 38,
   "id": "70c324cb-c220-49e8-b862-0580c4e38cfe",
   "metadata": {},
   "outputs": [],
   "source": [
    "#Slicing in the array"
   ]
  },
  {
   "cell_type": "code",
   "execution_count": 3,
   "id": "e0894857-f011-4656-b0b0-f285417955dd",
   "metadata": {},
   "outputs": [
    {
     "name": "stdout",
     "output_type": "stream",
     "text": [
      "[10 20 30]\n"
     ]
    }
   ],
   "source": [
    "print(a[0:3])"
   ]
  },
  {
   "cell_type": "code",
   "execution_count": 7,
   "id": "b2a32cf4-2fd4-4f7f-a1cd-8a6de88f643a",
   "metadata": {},
   "outputs": [
    {
     "name": "stdout",
     "output_type": "stream",
     "text": [
      "[20 30]\n",
      "60\n",
      "[[10 20]\n",
      " [50 60]]\n"
     ]
    }
   ],
   "source": [
    "b=np.array([[10,20,30],[50,60,70]])\n",
    "print(b[0,1:3])\n",
    "print(b[1,1])\n",
    "print(b[:2,:2])"
   ]
  },
  {
   "cell_type": "code",
   "execution_count": 46,
   "id": "c26b6e3c-fbf4-45d9-bb1c-78db4efbd3fe",
   "metadata": {},
   "outputs": [
    {
     "name": "stdout",
     "output_type": "stream",
     "text": [
      "(2, 3)\n",
      "6\n",
      "2\n",
      "int32\n",
      "2\n",
      "[[10. 20. 30.]\n",
      " [50. 60. 70.]]\n",
      "int32\n"
     ]
    }
   ],
   "source": [
    "#Functions of array\n",
    "b=np.array([[10,20,30],[50,60,70]])\n",
    "print(np.shape(b))\n",
    "print(np.size(b))\n",
    "print(np.ndim(b))\n",
    "print(b.dtype)\n",
    "print(len(b))\n",
    "print(b.astype(float))\n",
    "print(b.dtype)"
   ]
  },
  {
   "cell_type": "code",
   "execution_count": 47,
   "id": "9ac75a23-96b7-4e7a-89af-a9bcc8125975",
   "metadata": {},
   "outputs": [
    {
     "name": "stdout",
     "output_type": "stream",
     "text": [
      "[20 30 40]\n",
      "[20 30 40]\n",
      "[ 0 10 20]\n",
      "[100 200 300]\n",
      "[1. 2. 3.]\n",
      "[3.16227766 4.47213595 5.47722558]\n",
      "[2.20264658e+04 4.85165195e+08 1.06864746e+13]\n",
      "[1410065408  797966336  716276736]\n"
     ]
    }
   ],
   "source": [
    "#Mathematical operations\n",
    "a=np.array([10,20,30])\n",
    "b=np.array([10])\n",
    "print(a+b)\n",
    "print(np.add(a,b))\n",
    "print(np.subtract(a,b))\n",
    "print(np.multiply(a,b))\n",
    "print(np.divide(a,b))\n",
    "print(np.sqrt(a))\n",
    "print(np.exp(a))\n",
    "print(np.power(a,b))"
   ]
  },
  {
   "cell_type": "code",
   "execution_count": 37,
   "id": "f9b7590f-3bf9-4686-85d7-bf2faa72db95",
   "metadata": {},
   "outputs": [
    {
     "name": "stdout",
     "output_type": "stream",
     "text": [
      "[[10 20]\n",
      " [40 30]\n",
      " [ 1  2]\n",
      " [ 4  3]]\n",
      "[[10 20  1  2]\n",
      " [40 30  4  3]]\n"
     ]
    }
   ],
   "source": [
    "#Concatenate\n",
    "arr1=np.array([[10,20],[40,30]])\n",
    "arr2=np.array([[1,2],[4,3]])\n",
    "arr3=(np.concatenate([arr1,arr2],axis = 0))\n",
    "arr4=(np.concatenate([arr1,arr2],axis = 1))\n",
    "print(arr3)\n",
    "print(arr4)"
   ]
  },
  {
   "cell_type": "code",
   "execution_count": 39,
   "id": "fe83b419-ba07-4cc0-ad35-b308f5c92a72",
   "metadata": {},
   "outputs": [
    {
     "name": "stdout",
     "output_type": "stream",
     "text": [
      "[[10 20  1  2]\n",
      " [40 30  4  3]]\n",
      "[[10 20]\n",
      " [40 30]\n",
      " [ 1  2]\n",
      " [ 4  3]]\n"
     ]
    }
   ],
   "source": [
    "print(np.hstack([arr1,arr2]))\n",
    "print(np.vstack([arr1,arr2]))"
   ]
  },
  {
   "cell_type": "code",
   "execution_count": 45,
   "id": "b2b287bc-6f71-430a-ac3d-8fb08028003d",
   "metadata": {},
   "outputs": [
    {
     "name": "stdout",
     "output_type": "stream",
     "text": [
      "[array([10, 20]), array([30, 40]), array([50, 60])]\n",
      "[array([[1, 2, 3]]), array([[4, 5, 6]]), array([[7, 8, 9]]), array([], shape=(0, 3), dtype=int32)]\n",
      "[[4 5 6]]\n"
     ]
    }
   ],
   "source": [
    "#Splitting \n",
    "a=np.array([10,20,30,40,50,60])\n",
    "print(np.array_split(a,3))\n",
    "b=np.array([[1,2,3],[4,5,6],[7,8,9]])\n",
    "print(np.array_split(b,4))\n",
    "c=(np.array_split(b,3))\n",
    "print(c[1])"
   ]
  },
  {
   "cell_type": "code",
   "execution_count": 57,
   "id": "60ca4431-9dfc-47ab-827f-9097e665cc46",
   "metadata": {},
   "outputs": [
    {
     "name": "stdout",
     "output_type": "stream",
     "text": [
      "[10 20 30 40 50]\n",
      "[10 20 25 30 40]\n",
      "[10 20 30]\n"
     ]
    }
   ],
   "source": [
    "#Insertionn and deletion\n",
    "arr=np.array([10,20,30,40])\n",
    "print(np.append(arr,50))\n",
    "print(np.insert(arr,2,25))\n",
    "print(np.delete(arr,3))"
   ]
  },
  {
   "cell_type": "code",
   "execution_count": 58,
   "id": "829bd5aa-ac1b-491f-8fd4-652f62670a51",
   "metadata": {},
   "outputs": [
    {
     "name": "stdout",
     "output_type": "stream",
     "text": [
      "[1 2 3 4 5 6 7 8]\n",
      "[[1 2]\n",
      " [7 8]\n",
      " [3 4]\n",
      " [5 6]]\n",
      "[[1 7 2]\n",
      " [3 7 4]\n",
      " [5 7 6]]\n",
      "[[1 7 2]\n",
      " [3 8 4]\n",
      " [5 9 6]]\n",
      "[[1 2]\n",
      " [5 6]]\n",
      "[[1]\n",
      " [3]\n",
      " [5]]\n"
     ]
    }
   ],
   "source": [
    "#in 2D array\n",
    "arr1=np.array([[1,2],[3,4],[5,6]])\n",
    "print(np.append(arr1,[7,8]))\n",
    "print(np.insert(arr1,1,[7,8],axis=0))\n",
    "print(np.insert(arr1,1,7,axis=1))\n",
    "print(np.insert(arr1,1,[7,8,9],axis=1))\n",
    "print(np.delete(arr1,1,axis=0))\n",
    "print(np.delete(arr1,1,axis=1))"
   ]
  }
 ],
 "metadata": {
  "kernelspec": {
   "display_name": "Python 3 (ipykernel)",
   "language": "python",
   "name": "python3"
  },
  "language_info": {
   "codemirror_mode": {
    "name": "ipython",
    "version": 3
   },
   "file_extension": ".py",
   "mimetype": "text/x-python",
   "name": "python",
   "nbconvert_exporter": "python",
   "pygments_lexer": "ipython3",
   "version": "3.12.7"
  }
 },
 "nbformat": 4,
 "nbformat_minor": 5
}
